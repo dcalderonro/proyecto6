{
 "cells": [
  {
   "cell_type": "markdown",
   "metadata": {
    "id": "QtsVpwp81XHq"
   },
   "source": [
    "# Generate pseudo-WSIS from svs images"
   ]
  },
  {
   "cell_type": "markdown",
   "metadata": {
    "id": "AeGy5E4a0km0"
   },
   "source": [
    "import packages"
   ]
  },
  {
   "cell_type": "code",
   "execution_count": 1,
   "metadata": {
    "id": "J0pjbQw_0kP8"
   },
   "outputs": [],
   "source": [
    "import numpy as np\n",
    "from scipy.stats import norm\n",
    "\n",
    "import matplotlib.pyplot as plt\n",
    "from IPython.display import clear_output\n",
    "\n",
    "import time\n",
    "import sys\n",
    "import os\n",
    "import gc"
   ]
  },
  {
   "cell_type": "code",
   "execution_count": 3,
   "metadata": {
    "id": "Ya9q3AJm06fd"
   },
   "outputs": [],
   "source": [
    "sys.path.append('/home/jmalagont/Documentos/MLDS6project/src/nombre_paquete/preprocessing')\n",
    "import pyWSI as pywsi"
   ]
  },
  {
   "cell_type": "markdown",
   "metadata": {
    "id": "0TKmYaaZ1eTU"
   },
   "source": [
    "important variables"
   ]
  },
  {
   "cell_type": "code",
   "execution_count": 8,
   "metadata": {
    "id": "sy72Sa5I1g6V"
   },
   "outputs": [],
   "source": [
    "# path wich is stored the WSI\n",
    "load_path = '/run/media/jmalagont/Thesis/Thesis/DataSet/TCGA-BRCA/WSI/'\n",
    "\n",
    "# path where the pseudo-WSI will be stored\n",
    "save_path = '/run/media/jmalagont/Thesis/Thesis/DataSet/TCGA-BRCA/pseudo-WSI/'\n",
    "\n",
    "# number of patvches from each WSI\n",
    "n_patches = 16\n",
    "\n",
    "# patch size\n",
    "patch_size = 64\n",
    "\n",
    "# seed\n",
    "seed = 1997\n",
    "np.random.seed(seed)\n",
    "\n",
    "#Verbose (0: No, 1: Only procces tracking, 2: Procces and image tracking)\n",
    "verbose = 2\n",
    "\n",
    "#Sleeping time between iterations \n",
    "sleeping_time = 3"
   ]
  },
  {
   "cell_type": "markdown",
   "metadata": {
    "id": "cVGmyd3MtFPs"
   },
   "source": [
    "## Pesudo WSI generation"
   ]
  },
  {
   "cell_type": "code",
   "execution_count": 9,
   "metadata": {
    "id": "9PE8FrjNPmeV",
    "outputId": "1bab5bcf-10a0-4c74-8ec0-427de4f18120"
   },
   "outputs": [
    {
     "name": "stdout",
     "output_type": "stream",
     "text": [
      "Execution summary:\n",
      "Excution time: 5020.55, iteration time:4.73\n",
      "Correct executions:1062, wrong executions: 0\n"
     ]
    }
   ],
   "source": [
    "WSI_names = os.listdir(load_path)\n",
    "saved_pWSIs = os.listdir(save_path)\n",
    "\n",
    "initial_time = time.time()\n",
    "correct_executions = 0\n",
    "wrong_executions = 0\n",
    "\n",
    "for i in range (len(WSI_names)):\n",
    "    WSI_name = WSI_names[i]\n",
    "    print(f'Working on {WSI_name}')\n",
    "    \n",
    "    #1. WSI alrready processing?\n",
    "    print(f' 1. WSI state: ', end = ' ')\n",
    "    if (WSI_name[:-3] + 'npy') in saved_pWSIs:\n",
    "        WSI_name = 'None'\n",
    "        print('processed!')\n",
    "    else:\n",
    "        print('without treatment!')\n",
    "        \n",
    "    #2. Open WSI\n",
    "    print(f' 2. Open WSI: ', end = ' ')\n",
    "    try:\n",
    "        slide = pywsi.svs_read(load_path + WSI_name)\n",
    "        print('succesfully!')\n",
    "    except:\n",
    "        slide = None\n",
    "        print('Error!')\n",
    "    \n",
    "    #3. Check maximum optical ampf\n",
    "    print(f' 3. Maximum optical amplification: ', end = ' ')\n",
    "    try:\n",
    "        slide_properties = dict(slide.properties)\n",
    "        maximum_mag = slide_properties['aperio.AppMag']\n",
    "        print(f'X{maximum_mag}')\n",
    "    except:\n",
    "        maximum_mag = None\n",
    "        print('None')\n",
    "    \n",
    "    #4. Compute reduction factor\n",
    "    print(f' 4. Reduction factor: ', end = ' ')\n",
    "    if maximum_mag == '40':\n",
    "        reduction_factor = 2\n",
    "    elif maximum_mag == '20':\n",
    "        reduction_factor = 1\n",
    "    else:\n",
    "        reduction_factor = None\n",
    "    print(f'{reduction_factor}')\n",
    "\n",
    "    #5.  Relative patch size\n",
    "    print(f' 5. Relative patch size for a {patch_size} patch: ', end = ' ')\n",
    "    try:\n",
    "        shapes = list(slide.level_dimensions)\n",
    "        relative_patch_size = int((patch_size * reduction_factor) * (shapes[-1][0]/shapes[0][0])) + 2\n",
    "        print(f'{round(relative_patch_size, 2)}')\n",
    "    except:\n",
    "        print('Error!')\n",
    "    \n",
    "    #6.  Extract ROI\n",
    "    print(f' 6. Extract random ROI ({n_patches} patches, seed = {seed}): ', end = ' ')\n",
    "    try:\n",
    "        minimum_image = np.array(slide.read_region((0, 0), (len(shapes)-1), shapes[-1]).convert('RGB')) \n",
    "        ROI = pywsi.random_patch_roi(minimum_image, n_patches, [relative_patch_size, relative_patch_size], tissue_rate=.95, artifact_remotion=True, artifact_percentage_umbral=.1, seed=2011)\n",
    "        print('succesfully!')\n",
    "    except:\n",
    "        print('Error!')\n",
    "        \n",
    "    #7.  Extract patches on X20 ampf\n",
    "    print(f' 7. Extract high deffinition {patch_size} X {patch_size} patch: ', end = ' ')\n",
    "    try:\n",
    "        patches = pywsi.patch_extractions(slide, (len(shapes)-1), 0, ROI, magnitude_factor = reduction_factor, workers = None, verbose = False)\n",
    "        patches = patches [:n_patches,:patch_size, :patch_size, :]\n",
    "        print(f'succesfully!, extracted {patches.shape[0]} with shape {patches.shape[1]} X {patches.shape[2]}')\n",
    "    except:\n",
    "        patches = []\n",
    "        print('Error!')\n",
    "\n",
    "    #8.  Save the patches\n",
    "    print(f' 8. Saving extracted patches: ', end = ' ')\n",
    "    if np.size(patches) != 0:\n",
    "        file_path =  save_path + WSI_name[:-3] + 'npy'\n",
    "        np.save(file_path, patches, allow_pickle=False)\n",
    "        slide.close()\n",
    "        \n",
    "        correct_executions = correct_executions + 1\n",
    "        print(f'succesfully!')\n",
    "    else:\n",
    "        wrong_executions = wrong_executions + 1\n",
    "        print('Error!')\n",
    "    \n",
    "    current_time = time.time()  \n",
    "    executed_time = round(current_time - initial_time, 2)\n",
    "    timeXexecution = round(executed_time/correct_executions, 2)\n",
    "    remaining_executions = len(WSI_names) - i\n",
    "    remaining_time = round(timeXexecution * remaining_executions, 2)\n",
    "    \n",
    "    #9. Verbose\n",
    "    if verbose == 1:\n",
    "        print()\n",
    "        print('Execution summary:')\n",
    "        print(f'Excuted {i+1} of {len(WSI_names)}')\n",
    "        print(f'Excuted time: {executed_time}, iteration time:{timeXexecution},  remaining time: {remaining_time}')\n",
    "        print(f'Correct executions:{correct_executions}, wrong executions: {wrong_executions}')\n",
    "    elif verbose == 2:\n",
    "        assambly = pywsi.patch_assembly(patches, assambly_size=None)\n",
    "        print()\n",
    "        print('Execution summary:')\n",
    "        print(f'Excuted {i+1} of {len(WSI_names)}')\n",
    "        print(f'Excuted time: {executed_time}, iteration time:{timeXexecution},  remaining time: {remaining_time}')\n",
    "        print(f'Correct executions:{correct_executions}, wrong executions: {wrong_executions}')\n",
    "        print()\n",
    "        print('Images:')\n",
    "        \n",
    "        fig, char = plt.subplots(1,3)\n",
    "        fig.set_size_inches(30, 7)\n",
    "\n",
    "        char[0].imshow(minimum_image)\n",
    "        char[0].axis('off')\n",
    "        char[0].set_title('Image in X4 magnification')\n",
    "\n",
    "        char[1].imshow(ROI)\n",
    "        char[1].axis('off')\n",
    "        char[1].set_title('ROI on the WSI')\n",
    "\n",
    "        char[2].imshow(assambly)\n",
    "        char[2].axis('off')\n",
    "        char[2].set_title('Assambly')\n",
    "        \n",
    "        plt.show()\n",
    "    else:\n",
    "        pass\n",
    "    \n",
    "    time.sleep(sleeping_time)\n",
    "    clear_output()\n",
    "\n",
    "print('Execution summary:')\n",
    "print(f'Excution time: {executed_time}, iteration time:{timeXexecution}')\n",
    "print(f'Correct executions:{correct_executions}, wrong executions: {wrong_executions}')"
   ]
  }
 ],
 "metadata": {
  "colab": {
   "machine_shape": "hm",
   "provenance": []
  },
  "gpuClass": "standard",
  "kernelspec": {
   "display_name": "Python 3 (ipykernel)",
   "language": "python",
   "name": "python3"
  },
  "language_info": {
   "codemirror_mode": {
    "name": "ipython",
    "version": 3
   },
   "file_extension": ".py",
   "mimetype": "text/x-python",
   "name": "python",
   "nbconvert_exporter": "python",
   "pygments_lexer": "ipython3",
   "version": "3.11.3"
  }
 },
 "nbformat": 4,
 "nbformat_minor": 4
}
