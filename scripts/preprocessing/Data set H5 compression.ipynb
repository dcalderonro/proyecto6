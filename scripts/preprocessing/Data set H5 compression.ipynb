{
 "cells": [
  {
   "cell_type": "markdown",
   "metadata": {
    "id": "pcqi7vM4UYer"
   },
   "source": [
    "# Data set H5 compression"
   ]
  },
  {
   "cell_type": "markdown",
   "metadata": {
    "id": "P8gHKl7PH1Q5"
   },
   "source": [
    "Import necessary packages"
   ]
  },
  {
   "cell_type": "code",
   "execution_count": 2,
   "metadata": {
    "executionInfo": {
     "elapsed": 2727,
     "status": "ok",
     "timestamp": 1672933510389,
     "user": {
      "displayName": "Juan Sebastian Malagón Torres",
      "userId": "15002920102496657943"
     },
     "user_tz": 300
    },
    "id": "_91ee4-4Ehd0"
   },
   "outputs": [],
   "source": [
    "import os \n",
    "import shutil \n",
    "import sys\n",
    "import h5py\n",
    "import time\n",
    "\n",
    "import numpy as np\n",
    "import pandas as pd\n",
    "\n",
    "from skimage import transform\n",
    "\n",
    "from tensorflow.keras import applications, layers, models\n",
    "\n",
    "import matplotlib.pyplot as plt"
   ]
  },
  {
   "cell_type": "code",
   "execution_count": 3,
   "metadata": {
    "colab": {
     "base_uri": "https://localhost:8080/"
    },
    "executionInfo": {
     "elapsed": 3742,
     "status": "ok",
     "timestamp": 1672933514125,
     "user": {
      "displayName": "Juan Sebastian Malagón Torres",
      "userId": "15002920102496657943"
     },
     "user_tz": 300
    },
    "id": "Zmm1bpVMzak8",
    "outputId": "2eda45cf-0a18-4c88-bf65-85f776a5d401"
   },
   "outputs": [],
   "source": [
    "sys.path.append('/home/jmalagont/Documentos/MLDS6project/src/nombre_paquete/preprocessing')\n",
    "import pyWSI as pywsi"
   ]
  },
  {
   "cell_type": "markdown",
   "metadata": {
    "id": "-GwIm7WSRwqx"
   },
   "source": [
    "Important variables"
   ]
  },
  {
   "cell_type": "code",
   "execution_count": 26,
   "metadata": {
    "executionInfo": {
     "elapsed": 9,
     "status": "ok",
     "timestamp": 1672933514126,
     "user": {
      "displayName": "Juan Sebastian Malagón Torres",
      "userId": "15002920102496657943"
     },
     "user_tz": 300
    },
    "id": "er7XK2rlRz2m"
   },
   "outputs": [],
   "source": [
    "# Paths\n",
    "dataset_path = '/run/media/jmalagont/Thesis/Thesis/DataSet/TCGA-BRCA/'\n",
    "h5_path = '/run/media/jmalagont/Thesis/Thesis/DataSet/TCGA-BRCA/TCGA-BRCA.h5'\n",
    "\n",
    "# Images\n",
    "back_bone = 'EfficientNetV2B0'\n",
    "image_size = (256,256,3)\n",
    "\n",
    "# Metadata\n",
    "columns = ['bcr_patient_barcode','vital_status', 'days_to_last_followup', 'days_to_death']"
   ]
  },
  {
   "cell_type": "markdown",
   "metadata": {
    "id": "yJuuH-U-UMbf"
   },
   "source": [
    "## 1.) Create the H5 file\n",
    "\n",
    "\n"
   ]
  },
  {
   "cell_type": "code",
   "execution_count": 27,
   "metadata": {
    "colab": {
     "base_uri": "https://localhost:8080/"
    },
    "executionInfo": {
     "elapsed": 375,
     "status": "ok",
     "timestamp": 1672933658325,
     "user": {
      "displayName": "Juan Sebastian Malagón Torres",
      "userId": "15002920102496657943"
     },
     "user_tz": 300
    },
    "id": "r1AK0prqvdPZ",
    "outputId": "3c8b51f0-8afb-4b28-be70-ad82f4086cf5"
   },
   "outputs": [
    {
     "name": "stdout",
     "output_type": "stream",
     "text": [
      "Replacing file ...\n"
     ]
    }
   ],
   "source": [
    "exist = os.path.exists(h5_path)\n",
    "\n",
    "if exist == True:\n",
    "  os.remove(h5_path)\n",
    "  hf = h5py.File(h5_path, 'w')\n",
    "  print('Replacing file ...')\n",
    "  hf.close()\n",
    "else:\n",
    "  hf = h5py.File(h5_path, 'w')\n",
    "  print('Creating file ...')\n",
    "  hf.close()"
   ]
  },
  {
   "cell_type": "markdown",
   "metadata": {
    "id": "rgU2lnktOM2E"
   },
   "source": [
    "## 2.) Add patient ID"
   ]
  },
  {
   "cell_type": "code",
   "execution_count": 28,
   "metadata": {
    "colab": {
     "base_uri": "https://localhost:8080/"
    },
    "executionInfo": {
     "elapsed": 3,
     "status": "ok",
     "timestamp": 1672933660604,
     "user": {
      "displayName": "Juan Sebastian Malagón Torres",
      "userId": "15002920102496657943"
     },
     "user_tz": 300
    },
    "id": "eA5hKpOeOMPf",
    "outputId": "b18ad5db-9fa0-428a-ca26-ad9e3988868d"
   },
   "outputs": [
    {
     "name": "stdout",
     "output_type": "stream",
     "text": [
      "Founded 1062 cases\n"
     ]
    }
   ],
   "source": [
    "hf = h5py.File(h5_path, 'r+')\n",
    "\n",
    "pWSI_paths = os.listdir(dataset_path + 'pseudo-WSI/')\n",
    "pWSI_names = [pWSI_path[:-4] for pWSI_path in pWSI_paths]\n",
    "\n",
    "print(f'Founded {len(pWSI_names)} cases')\n",
    "\n",
    "ID_dataset = hf.create_dataset(\"Patient ID\", [len(pWSI_names)], dtype='S12')\n",
    "ID_dataset[:] = pWSI_names\n"
   ]
  },
  {
   "cell_type": "markdown",
   "metadata": {
    "id": "rjuP871IxbNV"
   },
   "source": [
    "## 3.) Add pseudo-WSI CNN representation\n"
   ]
  },
  {
   "cell_type": "markdown",
   "metadata": {
    "id": "Qib2XBAPcOHq"
   },
   "source": [
    "## 4.) Add CNN representation\n"
   ]
  },
  {
   "cell_type": "code",
   "execution_count": 29,
   "metadata": {
    "executionInfo": {
     "elapsed": 4,
     "status": "ok",
     "timestamp": 1672933661058,
     "user": {
      "displayName": "Juan Sebastian Malagón Torres",
      "userId": "15002920102496657943"
     },
     "user_tz": 300
    },
    "id": "e1FTe8uWcUWK"
   },
   "outputs": [],
   "source": [
    "def compression_CNN (backbone, shape):\n",
    "  base_model = eval(f'applications.{backbone}(include_top=False, weights=\"imagenet\", input_shape={str(shape)})')\n",
    "\n",
    "  cnn = models.Sequential()\n",
    "\n",
    "  cnn.add(base_model)\n",
    "  cnn.add(layers.GlobalAveragePooling2D())\n",
    "\n",
    "  return(cnn)"
   ]
  },
  {
   "cell_type": "code",
   "execution_count": 30,
   "metadata": {
    "executionInfo": {
     "elapsed": 2176,
     "status": "ok",
     "timestamp": 1672933664154,
     "user": {
      "displayName": "Juan Sebastian Malagón Torres",
      "userId": "15002920102496657943"
     },
     "user_tz": 300
    },
    "id": "twUMZhuVfJOU"
   },
   "outputs": [],
   "source": [
    "cnn = compression_CNN (back_bone, image_size)"
   ]
  },
  {
   "cell_type": "code",
   "execution_count": null,
   "metadata": {
    "colab": {
     "base_uri": "https://localhost:8080/"
    },
    "executionInfo": {
     "elapsed": 13891091,
     "status": "ok",
     "timestamp": 1672947555234,
     "user": {
      "displayName": "Juan Sebastian Malagón Torres",
      "userId": "15002920102496657943"
     },
     "user_tz": 300
    },
    "id": "XB4WO66PsPmN",
    "outputId": "8ba336d2-9903-4cc7-8d32-64a8415e7d8a"
   },
   "outputs": [],
   "source": [
    "hf = h5py.File(h5_path, 'r+')\n",
    "\n",
    "pWSI_embedding_dataset = hf.create_dataset(\"embedding\", [len(ID_dataset), 1280], dtype='f')\n",
    "\n",
    "for i in range(len(ID_dataset)):\n",
    "  pWSI_path = dataset_path + 'pseudo-WSI/' + ID_dataset[i].decode('UTF-8') + '.npy'\n",
    "  #print(ID_dataset[i].decode('UTF-8'))\n",
    "  pWSI = np.load(pWSI_path)\n",
    "  \n",
    "  pWSI_assambly = pywsi.patch_assembly(pWSI, assambly_size=None) \n",
    "  #pWSI_assambly = transform.resize(pWSI_assambly, list(image_size)[:2], anti_aliasing=True)\n",
    "  pWSI_CNN_embbeding = cnn(np.array([pWSI_assambly]))\n",
    "  pWSI_embedding_dataset[i] = pWSI_CNN_embbeding.numpy()[0]\n",
    "\n",
    "  sys.stdout.write(f'\\r Charged {i+1} of {len(ID_dataset)}')\n",
    "\n",
    "  time.sleep(10)\n",
    "  del pWSI, pWSI_assambly"
   ]
  },
  {
   "cell_type": "markdown",
   "metadata": {
    "id": "HrX8GN2p3z9K"
   },
   "source": [
    "## 5.) Add Survival information"
   ]
  },
  {
   "cell_type": "code",
   "execution_count": 21,
   "metadata": {
    "colab": {
     "base_uri": "https://localhost:8080/"
    },
    "executionInfo": {
     "elapsed": 3833,
     "status": "ok",
     "timestamp": 1672950140544,
     "user": {
      "displayName": "Juan Sebastian Malagón Torres",
      "userId": "15002920102496657943"
     },
     "user_tz": 300
    },
    "id": "OjmfVCL634Ka",
    "outputId": "c451133f-d699-4be9-b8cd-3e25915bed72"
   },
   "outputs": [
    {
     "name": "stdout",
     "output_type": "stream",
     "text": [
      " Charged 1038 of 1038"
     ]
    }
   ],
   "source": [
    "hf = h5py.File(h5_path, 'r+')\n",
    "\n",
    "metadata = pd.read_csv(dataset_path + 'Meta data/TCGA-BRCA_clinical.csv')\n",
    "metadata = metadata[columns]\n",
    "\n",
    "survival_info = pd.DataFrame(columns=['patient ID', 'vital status', 'time'])\n",
    "survival_info['patient ID'] = metadata[columns[0]]\n",
    "survival_info['vital status'] = (metadata[columns[1]] == 'dead')*1\n",
    "survival_info['time'] = metadata[columns[2]].fillna(0) + metadata[columns[3]].fillna(0)\n",
    "\n",
    "time_dataset = hf.create_dataset(\"time\", [len(ID_dataset)], dtype='i')\n",
    "status_dataset = hf.create_dataset(\"status\", [len(ID_dataset)], dtype='i')\n",
    "\n",
    "for i in range(len(ID_dataset)):\n",
    "  pWSI_name = ID_dataset[i].decode('UTF-8').lower()\n",
    "  data = survival_info[survival_info['patient ID'] == pWSI_name]\n",
    "\n",
    "  time_dataset[i] = np.array(data['time'])[0]\n",
    "  status_dataset[i] = np.array(data['vital status'])[0]\n",
    "  \n",
    "  sys.stdout.write(f'\\r Charged {i+1} of {len(ID_dataset)}')"
   ]
  }
 ],
 "metadata": {
  "accelerator": "GPU",
  "colab": {
   "machine_shape": "hm",
   "provenance": []
  },
  "gpuClass": "standard",
  "kernelspec": {
   "display_name": "Python 3 (ipykernel)",
   "language": "python",
   "name": "python3"
  },
  "language_info": {
   "codemirror_mode": {
    "name": "ipython",
    "version": 3
   },
   "file_extension": ".py",
   "mimetype": "text/x-python",
   "name": "python",
   "nbconvert_exporter": "python",
   "pygments_lexer": "ipython3",
   "version": "3.11.3"
  }
 },
 "nbformat": 4,
 "nbformat_minor": 4
}
